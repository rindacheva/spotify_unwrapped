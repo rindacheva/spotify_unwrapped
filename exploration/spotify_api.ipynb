{
 "cells": [
  {
   "cell_type": "markdown",
   "id": "b5e243dc",
   "metadata": {},
   "source": [
    "## Explore the API"
   ]
  },
  {
   "cell_type": "code",
   "execution_count": null,
   "id": "88687fb5",
   "metadata": {},
   "outputs": [],
   "source": [
    "import spotipy\n",
    "from spotipy.oauth2 import SpotifyOAuth\n",
    "\n",
    "import pandas as pd\n"
   ]
  },
  {
   "cell_type": "code",
   "execution_count": null,
   "id": "7207d670",
   "metadata": {},
   "outputs": [],
   "source": [
    "client_id = \"client_id\"\n",
    "client_secret = \"client_secret\""
   ]
  },
  {
   "cell_type": "code",
   "execution_count": null,
   "id": "ff583a11",
   "metadata": {},
   "outputs": [],
   "source": [
    "sp = spotipy.Spotify(auth_manager=SpotifyOAuth(\n",
    "    client_id=client_id,\n",
    "    client_secret=client_secret,\n",
    "    redirect_uri='http://127.0.0.1:8888/callback',\n",
    "    scope='user-top-read user-read-recently-played'\n",
    "))\n"
   ]
  },
  {
   "cell_type": "code",
   "execution_count": null,
   "id": "4e860c2c",
   "metadata": {},
   "outputs": [],
   "source": [
    "# get top tracks\n",
    "top_tracks = sp.current_user_top_tracks(limit=10, time_range='short_term')\n",
    "\n",
    "print(\"🔥 Your Top Tracks (last 4 weeks):\")\n",
    "for i, track in enumerate(top_tracks['items']):\n",
    "    name = track['name']\n",
    "    artist = track['artists'][0]['name']\n",
    "    print(f\"{i+1}: {name} by {artist}\")"
   ]
  },
  {
   "cell_type": "markdown",
   "id": "8e9b23cb",
   "metadata": {},
   "source": [
    "## Recent Tracks"
   ]
  },
  {
   "cell_type": "code",
   "execution_count": null,
   "id": "2f5450a6",
   "metadata": {},
   "outputs": [],
   "source": [
    "# Get recently played tracks (max 50)\n",
    "recent_tracks = sp.current_user_recently_played(limit=50)"
   ]
  },
  {
   "cell_type": "code",
   "execution_count": null,
   "id": "f968a60f",
   "metadata": {},
   "outputs": [],
   "source": [
    "# Build the data\n",
    "data = []\n",
    "\n",
    "for item in recent_tracks['items']:\n",
    "    track = item['track']\n",
    "    data.append({\n",
    "        'track_name': track['name'],\n",
    "        'artist_name': ', '.join([artist['name'] for artist in track['artists']]),\n",
    "        'album': track['album']['name'],\n",
    "        'played_at': item['played_at'],\n",
    "        'track_id': track['id']\n",
    "    })\n",
    "\n",
    "df = pd.DataFrame(data)"
   ]
  },
  {
   "cell_type": "markdown",
   "id": "4b245733",
   "metadata": {},
   "source": [
    "## Top Tracks"
   ]
  },
  {
   "cell_type": "code",
   "execution_count": null,
   "id": "7e10c6cb",
   "metadata": {},
   "outputs": [],
   "source": [
    "top_tracks = sp.current_user_top_tracks(limit=50, time_range='short_term')\n",
    "\n",
    "# Build DataFrame\n",
    "data = []\n",
    "\n",
    "for item in top_tracks['items']:\n",
    "    track = item['name']\n",
    "    artist = ', '.join([a['name'] for a in item['artists']])\n",
    "    album = item['album']['name']\n",
    "    release_date = item['album']['release_date']\n",
    "    duration_ms = item['duration_ms']\n",
    "    popularity = item['popularity']\n",
    "    track_id = item['id']\n",
    "    artist_ids = ', '.join([a['id'] for a in item['artists']])\n",
    "    data.append({\n",
    "        'track_name': track,\n",
    "        'artist_name': artist,\n",
    "        'album_name': album,\n",
    "        'release_date': release_date,\n",
    "        'duration_ms': duration_ms,\n",
    "        'popularity': popularity,\n",
    "        'track_id': track_id,\n",
    "        'artist_ids': artist_ids\n",
    "    })\n",
    "\n",
    "df = pd.DataFrame(data)"
   ]
  },
  {
   "cell_type": "code",
   "execution_count": null,
   "id": "8c211d0f",
   "metadata": {},
   "outputs": [],
   "source": [
    "# additional info\n",
    "df['rank'] = df.index + 1\n",
    "df['release_year'] = df['release_date'].apply(lambda x: x.split('-')[0])\n"
   ]
  },
  {
   "cell_type": "code",
   "execution_count": null,
   "id": "e7c44f60",
   "metadata": {},
   "outputs": [],
   "source": [
    "df.to_csv(\"files/top_tracks.csv\", index=False)"
   ]
  },
  {
   "cell_type": "code",
   "execution_count": null,
   "id": "f3819977",
   "metadata": {},
   "outputs": [],
   "source": [
    "artist_counts = df['artist_name'].value_counts()\n",
    "print(artist_counts.head(10))\n"
   ]
  },
  {
   "cell_type": "code",
   "execution_count": null,
   "id": "26732a99",
   "metadata": {},
   "outputs": [],
   "source": [
    "df['release_year'] = df['release_date'].str[:4]\n",
    "year_counts = df['release_year'].value_counts().sort_index()\n"
   ]
  },
  {
   "cell_type": "code",
   "execution_count": null,
   "id": "b73eb55a",
   "metadata": {},
   "outputs": [],
   "source": [
    "year_counts"
   ]
  },
  {
   "cell_type": "markdown",
   "id": "350b44fe",
   "metadata": {},
   "source": [
    "## Audio Features\n",
    "\n",
    "nah man this was deprecated from the api\n",
    "\n",
    "check out: \n",
    "\n",
    "https://blog.metabrainz.org/2024/11/28/pissed-off-by-spotify-enshittifying-more-api-endpoints-we-can-help/\n",
    "\n",
    "https://medium.com/data-science/spotify-api-audio-features-5d8bcbd780b2"
   ]
  },
  {
   "cell_type": "code",
   "execution_count": null,
   "id": "bbd6396d",
   "metadata": {},
   "outputs": [],
   "source": [
    "import spotipy\n",
    "from spotipy.oauth2 import SpotifyClientCredentials\n",
    "\n",
    "sp_no_auth = spotipy.Spotify(auth_manager=SpotifyClientCredentials(\n",
    "    client_id=client_id,\n",
    "    client_secret=client_secret\n",
    "))\n"
   ]
  },
  {
   "cell_type": "code",
   "execution_count": null,
   "id": "0cc59e23",
   "metadata": {},
   "outputs": [],
   "source": [
    "sp_no_auth.audio_features(tracks=['2fuCquhmrzHpu5xcA1ci9x'])"
   ]
  },
  {
   "cell_type": "markdown",
   "id": "639d8d37",
   "metadata": {},
   "source": [
    "## Genre via Artist"
   ]
  },
  {
   "cell_type": "code",
   "execution_count": null,
   "id": "7971142f",
   "metadata": {},
   "outputs": [],
   "source": [
    "artist_ids = []\n",
    "\n",
    "for item in top_tracks['items']:\n",
    "    for artist in item['artists']:\n",
    "        artist_ids.append({\n",
    "            'track_id': item['id'],\n",
    "            'artist_name': artist['name'],\n",
    "            'artist_id': artist['id']\n",
    "        })\n",
    "\n",
    "artist_df = pd.DataFrame(artist_ids)\n"
   ]
  },
  {
   "cell_type": "code",
   "execution_count": null,
   "id": "ebe31797",
   "metadata": {},
   "outputs": [],
   "source": [
    "artist_df"
   ]
  },
  {
   "cell_type": "code",
   "execution_count": null,
   "id": "19a8e1ef",
   "metadata": {},
   "outputs": [],
   "source": [
    "import time\n",
    "\n",
    "genre_data = []\n",
    "\n",
    "unique_ids = artist_df['artist_id'].dropna().unique()\n",
    "\n",
    "for artist_id in unique_ids:\n",
    "    try:\n",
    "        artist_info = sp.artist(artist_id)\n",
    "        genre_data.append({\n",
    "            'artist_id': artist_id,\n",
    "            'artist_name': artist_info['name'],\n",
    "            'followers': artist_info['followers']['total'],\n",
    "            'popularity': artist_info['popularity'],\n",
    "            'genres': artist_info['genres']\n",
    "        })\n",
    "    except Exception as e:\n",
    "        print(f\"Error fetching genres for {artist_id}: {e}\")\n",
    "    time.sleep(0.1)  # be kind to the API\n",
    "\n",
    "genres_df = pd.DataFrame(genre_data)\n"
   ]
  },
  {
   "cell_type": "code",
   "execution_count": null,
   "id": "000e5a29",
   "metadata": {},
   "outputs": [],
   "source": [
    "genres_df"
   ]
  },
  {
   "cell_type": "code",
   "execution_count": null,
   "id": "795d0ce4",
   "metadata": {},
   "outputs": [],
   "source": [
    "from collections import Counter\n",
    "\n",
    "# Flatten the genre lists\n",
    "all_genres = [genre for sublist in genres_df['genres'].dropna() for genre in sublist]\n",
    "genre_counts = Counter(all_genres)\n",
    "\n",
    "# Top 10 genres\n",
    "print(genre_counts.most_common(10))\n"
   ]
  },
  {
   "cell_type": "code",
   "execution_count": null,
   "id": "cd547df7",
   "metadata": {},
   "outputs": [],
   "source": [
    "import matplotlib.pyplot as plt\n",
    "\n",
    "top_genres = genre_counts.most_common(10)\n",
    "genres, counts = zip(*top_genres)\n",
    "\n",
    "plt.barh(genres[::-1], counts[::-1])\n",
    "plt.title(\"Top Genres in Your Short-Term Top 50\")\n",
    "plt.xlabel(\"Count\")\n",
    "plt.tight_layout()\n",
    "plt.show()\n"
   ]
  },
  {
   "cell_type": "code",
   "execution_count": null,
   "id": "3b991486",
   "metadata": {},
   "outputs": [],
   "source": []
  }
 ],
 "metadata": {
  "kernelspec": {
   "display_name": "Python 3",
   "language": "python",
   "name": "python3"
  },
  "language_info": {
   "codemirror_mode": {
    "name": "ipython",
    "version": 3
   },
   "file_extension": ".py",
   "mimetype": "text/x-python",
   "name": "python",
   "nbconvert_exporter": "python",
   "pygments_lexer": "ipython3",
   "version": "3.6.3"
  }
 },
 "nbformat": 4,
 "nbformat_minor": 5
}
